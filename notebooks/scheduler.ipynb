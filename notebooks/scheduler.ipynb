{
 "cells": [
  {
   "metadata": {},
   "cell_type": "code",
   "outputs": [],
   "execution_count": null,
   "source": "WORKDIR = '/Users/moritzmzw/Library/CloudStorage/OneDrive-Personal/Dokumente/Stuff/Studium/Masterthesis/SERPENS'",
   "id": "76aa02db07785e89"
  },
  {
   "metadata": {},
   "cell_type": "code",
   "outputs": [],
   "execution_count": null,
   "source": [
    "import os\n",
    "\n",
    "if WORKDIR is None:\n",
    "    raise ValueError(\"Set the working directory as the SERPENS directory!\")\n",
    "\n",
    "if os.getcwd() != WORKDIR:\n",
    "    os.chdir(WORKDIR)\n",
    "\n",
    "print(\"Working Directory:\", os.getcwd())"
   ],
   "id": "f5393344cf661327"
  },
  {
   "metadata": {},
   "cell_type": "code",
   "outputs": [],
   "execution_count": null,
   "source": [
    "from src.scheduler import SerpensScheduler\n",
    "from src.species import Species"
   ],
   "id": "e822cb966f563596"
  },
  {
   "metadata": {},
   "cell_type": "markdown",
   "source": [
    "\n",
    "### Example usage of the SerpensScheduler class.\n",
    "\n",
    "This example demonstrates how to:\n",
    "1. Create a scheduler\n",
    "2. Schedule multiple simulations with different parameters\n",
    "3. Run all simulations sequentially\n"
   ],
   "id": "dd2621452afd1239"
  },
  {
   "metadata": {},
   "cell_type": "code",
   "execution_count": null,
   "source": [
    "# Create a new scheduler instance\n",
    "ssch = SerpensScheduler()"
   ],
   "id": "ab499cd1a4a9aebf",
   "outputs": []
  },
  {
   "metadata": {},
   "cell_type": "markdown",
   "source": "#### Schedule 1: Sodium from Europa ",
   "id": "deb57281719b990f"
  },
  {
   "metadata": {},
   "cell_type": "code",
   "outputs": [],
   "execution_count": null,
   "source": [
    "# Schedule a simulation of sodium particles from Europa (Jupiter's moon)\n",
    "ssch.schedule(\n",
    "    # Unique identifier for this simulation\n",
    "    description=\"Europa-Na-Simulation\",\n",
    "    # Use the Jupiter-Europa system\n",
    "    celestial_name='Jupiter',\n",
    "    # Specify that the moon (Europa) is the source object\n",
    "    source_object='Europa',\n",
    "    # Define sodium as the species to simulate\n",
    "    species=[\n",
    "        Species(\n",
    "            'Na',                           # Element symbol\n",
    "            description='Europa Sodium',    # Description for plots and output\n",
    "            n_th=0,                         # Number of thermal particles (0 = disabled)\n",
    "            n_sp=300,                       # Number of sputtered particles per spawn\n",
    "            mass_per_sec=6.69,              # Mass production rate (kg/s)\n",
    "            model_smyth_v_b=1200,           # Bulk velocity parameter (m/s)\n",
    "            model_smyth_v_M=6*1000          # Maximum velocity parameter (m/s)\n",
    "        )\n",
    "    ],\n",
    "    # Set integration parameters\n",
    "    int_spec={\n",
    "        \"r_max\": 16                         # Maximum distance in units of semi-major axis\n",
    "    }\n",
    ")"
   ],
   "id": "11fca667eb39780"
  },
  {
   "metadata": {},
   "cell_type": "markdown",
   "source": "#### Schedule 2: Sodium from Io",
   "id": "c6b6a9cc810565cc"
  },
  {
   "metadata": {},
   "cell_type": "code",
   "execution_count": null,
   "source": [
    "# Schedule a simulation of sodium particles from Io (Jupiter's moon)\n",
    "ssch.schedule(\n",
    "    description=\"Io-Na-Simulation\",\n",
    "    celestial_name='Jupiter',\n",
    "    source_object='Io',\n",
    "    species=[\n",
    "        Species(\n",
    "            'Na', \n",
    "            description='Io Sodium',\n",
    "            n_th=0,\n",
    "            n_sp=300,\n",
    "            mass_per_sec=6.69,\n",
    "            model_smyth_v_b=1200,\n",
    "            model_smyth_v_M=6*1000\n",
    "        )\n",
    "    ],\n",
    "    int_spec={\"r_max\": 16}\n",
    ")"
   ],
   "id": "b2fe7c1d439726bd",
   "outputs": []
  },
  {
   "metadata": {},
   "cell_type": "markdown",
   "source": "#### Run All Scheduled Simulations",
   "id": "f3daa87ebc09d511"
  },
  {
   "metadata": {},
   "cell_type": "code",
   "outputs": [],
   "execution_count": null,
   "source": [
    "# This will execute both simulations sequentially\n",
    "print(\"\\nRunning all scheduled simulations...\")\n",
    "ssch.run(\n",
    "    orbits=1,       # Run for 1 orbit of the source object\n",
    "    spawns=20,      # Create particles 20 times during the simulation\n",
    "    verbose=True    # Show detailed progress information\n",
    ")\n",
    "\n",
    "print(\"\\nSimulations complete. Results are saved in the 'schedule_archive' directory.\")\n",
    "print(\"You can analyze the results using the SerpensAnalyzer class.\")\n"
   ],
   "id": "7b96e17455ee3502"
  }
 ],
 "metadata": {
  "kernelspec": {
   "display_name": "Python 3",
   "language": "python",
   "name": "python3"
  },
  "language_info": {
   "codemirror_mode": {
    "name": "ipython",
    "version": 2
   },
   "file_extension": ".py",
   "mimetype": "text/x-python",
   "name": "python",
   "nbconvert_exporter": "python",
   "pygments_lexer": "ipython2",
   "version": "2.7.6"
  }
 },
 "nbformat": 4,
 "nbformat_minor": 5
}
